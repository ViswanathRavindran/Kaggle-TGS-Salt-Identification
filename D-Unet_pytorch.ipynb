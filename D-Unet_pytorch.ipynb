{
 "cells": [
  {
   "cell_type": "markdown",
   "metadata": {
    "_uuid": "7f65d1be836f1d7b45ba6376592fe89ac041e118"
   },
   "source": [
    "Checking FastAI"
   ]
  },
  {
   "cell_type": "code",
   "execution_count": 1,
   "metadata": {
    "_cell_guid": "b1076dfc-b9ad-4769-8c92-a6c4dae69d19",
    "_uuid": "8f2839f25d086af736a60e9eeb907d3b93b6e0e5"
   },
   "outputs": [],
   "source": [
    "import numpy as np\n",
    "import pandas as pd\n",
    "import os\n",
    "#print(os.listdir(\"/kaggle/input/tgs-salt-identification-challenge\"))\n",
    "#os.getcwd()"
   ]
  },
  {
   "cell_type": "code",
   "execution_count": 2,
   "metadata": {
    "_cell_guid": "79c7e3d0-c299-4dcb-8224-4455121ee9b0",
    "_uuid": "d629ff2d2480ee46fbb7e2d37f6b5fab8052498a"
   },
   "outputs": [],
   "source": [
    "from fastai.conv_learner import *\n",
    "from fastai.dataset import *\n",
    "\n",
    "from pathlib import Path\n",
    "import json\n",
    "torch.cuda.set_device(0)"
   ]
  },
  {
   "cell_type": "code",
   "execution_count": 3,
   "metadata": {},
   "outputs": [],
   "source": [
    "path = '/home/vishy/Desktop/Kaggle/TGS/Data/'\n",
    "subpath = '/home/vishy/Desktop/Kaggle/TGS/Submissions/'"
   ]
  },
  {
   "cell_type": "code",
   "execution_count": 4,
   "metadata": {},
   "outputs": [],
   "source": [
    "PATH = Path('/kaggle/input/tgs-salt-identification-challenge/')"
   ]
  },
  {
   "cell_type": "code",
   "execution_count": 5,
   "metadata": {},
   "outputs": [
    {
     "data": {
      "text/plain": [
       "PosixPath('/kaggle/input/tgs-salt-identification-challenge')"
      ]
     },
     "execution_count": 5,
     "metadata": {},
     "output_type": "execute_result"
    }
   ],
   "source": [
    "PATH"
   ]
  },
  {
   "cell_type": "code",
   "execution_count": 6,
   "metadata": {
    "_uuid": "6e82a2e0941998d2847472970fb7132c51f2f927",
    "scrolled": true
   },
   "outputs": [],
   "source": [
    "MASKS_FN = path+'train.csv'\n",
    "TRAIN_DN = Path(path+'train/images/')\n",
    "MASKS_DN = Path(path+'train/masks/')\n",
    "TEST = Path(path+'test/images/')\n",
    "\n",
    "PATH = Path('/home/vishy/Desktop/Kaggle/TGS/Data/')\n",
    "PATH128 = Path('/tmp/128/')\n",
    "TMP = Path('/tmp/')\n",
    "MODEL = Path('/tmp/model/')\n",
    "# PRETRAINED = Path('/kaggle/input/is-there-salt-resnet34/model/resnet34_issalt.h5')\n",
    "seg = pd.read_csv(PATH/MASKS_FN).set_index('id')\n",
    "seg.head()\n",
    "\n",
    "sz = 128\n",
    "bs = 16\n",
    "nw = 4"
   ]
  },
  {
   "cell_type": "code",
   "execution_count": 7,
   "metadata": {
    "_uuid": "2efaff04aee64496476bc08d9b789f9b6adcebc5"
   },
   "outputs": [],
   "source": [
    "train_names_png = [TRAIN_DN/f for f in os.listdir(PATH/TRAIN_DN)]\n",
    "train_names = list(seg.index.values)\n",
    "masks_names_png = [MASKS_DN/f for f in os.listdir(PATH/MASKS_DN)]\n",
    "test_names_png = [TEST/f for f in os.listdir(PATH/TEST)]"
   ]
  },
  {
   "cell_type": "code",
   "execution_count": 8,
   "metadata": {
    "_uuid": "11ef51b9f2cffb829b0ca536a4888c29fd91a2c2"
   },
   "outputs": [
    {
     "data": {
      "text/plain": [
       "(PosixPath('/home/vishy/Desktop/Kaggle/TGS/Data/train/images/7524d9b7bf.png'),\n",
       " PosixPath('/home/vishy/Desktop/Kaggle/TGS/Data/train/masks/7524d9b7bf.png'),\n",
       " PosixPath('/home/vishy/Desktop/Kaggle/TGS/Data/test/images/8cd406ddbd.png'))"
      ]
     },
     "execution_count": 8,
     "metadata": {},
     "output_type": "execute_result"
    }
   ],
   "source": [
    "train_names_png[0], masks_names_png[0], test_names_png[0]"
   ]
  },
  {
   "cell_type": "code",
   "execution_count": 9,
   "metadata": {
    "_uuid": "bfab303c8731a742e89943fbd437a2eb236da718"
   },
   "outputs": [],
   "source": [
    "TMP.mkdir(exist_ok=True)\n",
    "PATH128.mkdir(exist_ok=True)\n",
    "(PATH128/'train').mkdir(exist_ok=True)\n",
    "(PATH128/'test').mkdir(exist_ok=True)\n",
    "(PATH128/MASKS_DN).mkdir(exist_ok=True)\n",
    "(PATH128/TRAIN_DN).mkdir(exist_ok=True)\n",
    "(PATH128/TEST).mkdir(exist_ok=True)"
   ]
  },
  {
   "cell_type": "code",
   "execution_count": 10,
   "metadata": {
    "_uuid": "f30b170531378aabaac3f287de91c183bc9aa6f6"
   },
   "outputs": [],
   "source": [
    "def resize_mask(fn):\n",
    "    Image.open(PATH/fn).resize((128,128)).save(PATH128/fn)"
   ]
  },
  {
   "cell_type": "code",
   "execution_count": 11,
   "metadata": {
    "_uuid": "96df55671ab50b185a0aa5d88d63f5df59af7eeb"
   },
   "outputs": [],
   "source": [
    "with ThreadPoolExecutor(4) as e: e.map(resize_mask, train_names_png)"
   ]
  },
  {
   "cell_type": "code",
   "execution_count": 12,
   "metadata": {
    "_uuid": "d6b91f5fad57138c184ce8729cee1aa106ab6fde"
   },
   "outputs": [],
   "source": [
    "with ThreadPoolExecutor(4) as e: e.map(resize_mask, masks_names_png)"
   ]
  },
  {
   "cell_type": "code",
   "execution_count": 13,
   "metadata": {
    "_uuid": "ca17761c5ce64ab86f3aec5fd1602c56e0a03a1b"
   },
   "outputs": [],
   "source": [
    "with ThreadPoolExecutor(4) as e: e.map(resize_mask, test_names_png)"
   ]
  },
  {
   "cell_type": "code",
   "execution_count": 14,
   "metadata": {
    "_uuid": "d089f4a1f6ccced8332e21c057238e96e1cb7400"
   },
   "outputs": [],
   "source": [
    "PATH = PATH128 #just for sanity"
   ]
  },
  {
   "cell_type": "code",
   "execution_count": 15,
   "metadata": {
    "_uuid": "02549724eba9bfd9158615ec506aa76ee277b5de"
   },
   "outputs": [],
   "source": [
    "def show_img(im, figsize=None, ax=None, alpha=None):\n",
    "    if not ax: fig,ax = plt.subplots(figsize=figsize)\n",
    "    ax.imshow(im, alpha=alpha)\n",
    "    ax.set_axis_off()\n",
    "    return ax"
   ]
  },
  {
   "cell_type": "code",
   "execution_count": 16,
   "metadata": {
    "_uuid": "e5e5937017c46fe15d107fe22143aefff12155c2"
   },
   "outputs": [],
   "source": [
    "im, mk = Image.open(PATH/train_names_png[0]), Image.open(PATH/masks_names_png[0])"
   ]
  },
  {
   "cell_type": "code",
   "execution_count": 17,
   "metadata": {
    "_uuid": "9d09086c47a39ed69c77d56ddf2afccdaacd295d"
   },
   "outputs": [
    {
     "data": {
      "image/png": "[encoded data removed]",
      "text/plain": [
       "<Figure size 432x288 with 1 Axes>"
      ]
     },
     "metadata": {
      "needs_background": "light"
     },
     "output_type": "display_data"
    },
    {
     "data": {
      "image/png": "[encoded data removed]",
      "text/plain": [
       "<Figure size 432x288 with 1 Axes>"
      ]
     },
     "metadata": {
      "needs_background": "light"
     },
     "output_type": "display_data"
    }
   ],
   "source": [
    "ax = show_img(im);\n",
    "show_img(mk, alpha=0.3);"
   ]
  },
  {
   "cell_type": "code",
   "execution_count": 18,
   "metadata": {
    "_uuid": "9595ec1ad84464a91f0f9b4dc6bfbd037d3fd007"
   },
   "outputs": [],
   "source": [
    "class CustomDataset(FilesDataset):\n",
    "    def __init__(self, fnames, y, transform, path):\n",
    "        self.y=y\n",
    "        assert(len(fnames)==len(y))\n",
    "        super().__init__(fnames, transform, path)\n",
    "        \n",
    "    def get_x(self, i): \n",
    "        return open_image(os.path.join(self.path,self.fnames[i]))\n",
    "    def get_y(self, i): \n",
    "        return open_image(os.path.join(self.path,self.y[i]))\n",
    "    def get_c(self): return 0"
   ]
  },
  {
   "cell_type": "code",
   "execution_count": 19,
   "metadata": {
    "_uuid": "f768c2898bdfd40e3a53afc651637bb44a85b6f0"
   },
   "outputs": [],
   "source": [
    "def dice(pred, targs):\n",
    "    pred = (pred>0).float()\n",
    "    return 2. * (pred*targs).sum() / (pred+targs).sum()\n",
    "\n",
    "def IoU(pred, targs):\n",
    "    pred = (pred>0).float()\n",
    "    intersection = (pred*targs).sum()\n",
    "    return intersection / ((pred+targs).sum() - intersection + 1.0)"
   ]
  },
  {
   "cell_type": "code",
   "execution_count": 20,
   "metadata": {
    "_uuid": "c9e0836898390d2491865647e3cac1d5d3379bfc"
   },
   "outputs": [],
   "source": [
    "x_names = [f'{x}.png' for x in train_names]\n",
    "x_names_path = np.array([str(TRAIN_DN/x) for x in x_names])\n",
    "y_names = [x for x in x_names]\n",
    "y_names_path = np.array([str(MASKS_DN/x) for x in x_names])"
   ]
  },
  {
   "cell_type": "code",
   "execution_count": 21,
   "metadata": {
    "_uuid": "ed01e52ad79a7bb30c5e4864e54f769741fb84bd"
   },
   "outputs": [],
   "source": [
    "im = open_image(str(PATH/y_names_path[1]))"
   ]
  },
  {
   "cell_type": "code",
   "execution_count": 22,
   "metadata": {
    "_uuid": "5a8faa7e036d37628be903fa564838f270e68e81"
   },
   "outputs": [],
   "source": [
    "# val_idxs = list(range(200))\n",
    "val_idxs=list(range(0,200))\n",
    "((val_x,trn_x),(val_y,trn_y)) = split_by_idx(val_idxs, x_names_path, y_names_path)\n",
    "test_x = np.array(test_names_png)"
   ]
  },
  {
   "cell_type": "code",
   "execution_count": 23,
   "metadata": {
    "_uuid": "7850ea7b858dca3bea220ec02daf49630763e18e"
   },
   "outputs": [
    {
     "data": {
      "text/plain": [
       "(array(['/home/vishy/Desktop/Kaggle/TGS/Data/train/images/3edc3edf92.png',\n",
       "        '/home/vishy/Desktop/Kaggle/TGS/Data/train/images/86c1109730.png',\n",
       "        '/home/vishy/Desktop/Kaggle/TGS/Data/train/images/b5bdff9392.png', ...,\n",
       "        '/home/vishy/Desktop/Kaggle/TGS/Data/train/images/1306fcee4c.png',\n",
       "        '/home/vishy/Desktop/Kaggle/TGS/Data/train/images/48d81e93d9.png',\n",
       "        '/home/vishy/Desktop/Kaggle/TGS/Data/train/images/edf1e6ac00.png'], dtype='<U63'),\n",
       " array(['/home/vishy/Desktop/Kaggle/TGS/Data/train/masks/3edc3edf92.png',\n",
       "        '/home/vishy/Desktop/Kaggle/TGS/Data/train/masks/86c1109730.png',\n",
       "        '/home/vishy/Desktop/Kaggle/TGS/Data/train/masks/b5bdff9392.png', ...,\n",
       "        '/home/vishy/Desktop/Kaggle/TGS/Data/train/masks/1306fcee4c.png',\n",
       "        '/home/vishy/Desktop/Kaggle/TGS/Data/train/masks/48d81e93d9.png',\n",
       "        '/home/vishy/Desktop/Kaggle/TGS/Data/train/masks/edf1e6ac00.png'], dtype='<U62'),\n",
       " array([PosixPath('/home/vishy/Desktop/Kaggle/TGS/Data/test/images/8cd406ddbd.png'),\n",
       "        PosixPath('/home/vishy/Desktop/Kaggle/TGS/Data/test/images/4a4e33c15e.png'),\n",
       "        PosixPath('/home/vishy/Desktop/Kaggle/TGS/Data/test/images/a5079cb93c.png'), ...,\n",
       "        PosixPath('/home/vishy/Desktop/Kaggle/TGS/Data/test/images/ac2af593c2.png'),\n",
       "        PosixPath('/home/vishy/Desktop/Kaggle/TGS/Data/test/images/e634f95937.png'),\n",
       "        PosixPath('/home/vishy/Desktop/Kaggle/TGS/Data/test/images/635fda5299.png')], dtype=object))"
      ]
     },
     "execution_count": 23,
     "metadata": {},
     "output_type": "execute_result"
    }
   ],
   "source": [
    "trn_x, trn_y, test_x"
   ]
  },
  {
   "cell_type": "code",
   "execution_count": 24,
   "metadata": {
    "_uuid": "147891bbe86101ce67d3b36f1cc8d381a5bb2770"
   },
   "outputs": [],
   "source": [
    "aug_tfms = [RandomRotate(4, tfm_y=TfmType.CLASS),\n",
    "             RandomFlip(tfm_y=TfmType.CLASS),\n",
    "             RandomLighting(0.05, 0.05, tfm_y=TfmType.CLASS)]\n",
    "#aug_tfms = [RandomFlip(tfm_y=TfmType.CLASS)]"
   ]
  },
  {
   "cell_type": "code",
   "execution_count": 25,
   "metadata": {
    "_uuid": "13d900a71bc8d1e4f81cc73c4df9d093ccda6a09"
   },
   "outputs": [],
   "source": [
    "tfms = tfms_from_model(resnet34, sz=128, crop_type=CropType.NO, tfm_y=TfmType.CLASS, aug_tfms=aug_tfms)\n",
    "datasets = ImageData.get_ds(CustomDataset, (trn_x,trn_y), (val_x,val_y), tfms, (test_x, test_x), path=PATH)\n",
    "md = ImageData(PATH, datasets, bs=bs, num_workers=nw, classes=None)\n",
    "denorm = md.trn_ds.denorm"
   ]
  },
  {
   "cell_type": "code",
   "execution_count": 26,
   "metadata": {
    "_uuid": "66118cce3d7524849d02e13b863704e1a67421ee"
   },
   "outputs": [
    {
     "data": {
      "text/plain": [
       "(torch.Size([16, 3, 128, 128]), torch.Size([16, 128, 128]))"
      ]
     },
     "execution_count": 26,
     "metadata": {},
     "output_type": "execute_result"
    }
   ],
   "source": [
    "x,y = next(iter(md.trn_dl))\n",
    "x.shape, y.shape"
   ]
  },
  {
   "cell_type": "markdown",
   "metadata": {
    "_uuid": "a557302752cb359dbe6021a3fbe36a40c66c68fe"
   },
   "source": [
    "# Resnet18 - UNET"
   ]
  },
  {
   "cell_type": "code",
   "execution_count": 27,
   "metadata": {
    "_uuid": "eb4f382d9f53100f4ffcb2a6c2c9079d0acc5b93"
   },
   "outputs": [],
   "source": [
    "from fastai.models.unet import *"
   ]
  },
  {
   "cell_type": "code",
   "execution_count": 28,
   "metadata": {
    "_uuid": "d2e3449de8e2952a34a4e93e043f67dc02a02328"
   },
   "outputs": [],
   "source": [
    "def get_encoder(f, cut):\n",
    "    base_model = (cut_model(f(True), cut))\n",
    "    return nn.Sequential(*base_model)"
   ]
  },
  {
   "cell_type": "code",
   "execution_count": 29,
   "metadata": {
    "_uuid": "83a705d5f29328d6a3cb0aa887c655eaa7b0d61c"
   },
   "outputs": [],
   "source": [
    "# Wrap everything nicely\n",
    "class UpsampleModel():\n",
    "    def __init__(self, model, cut_lr, name='upsample'):\n",
    "        self.model,self.name, self.cut_lr = model, name, cut_lr\n",
    "\n",
    "    def get_layer_groups(self, precompute):\n",
    "        lgs = list(split_by_idxs(children(self.model.encoder), [self.cut_lr]))\n",
    "        return lgs + [children(self.model)[1:]]"
   ]
  },
  {
   "cell_type": "code",
   "execution_count": 30,
   "metadata": {
    "_uuid": "3eabbfadfa85d15f5981992c902d7de611eed06e"
   },
   "outputs": [],
   "source": [
    "class DynamicUnet2(nn.Module):\n",
    "    \"\"\"\n",
    "    A dynamic implementation of Unet architecture, because calculating connections\n",
    "    and channels suck!. When an encoder is passed, this network will\n",
    "    automatically construct a decoder after the first single forward pass for any\n",
    "    given encoder architecture.\n",
    "\n",
    "    Decoder part is heavily based on the original Unet paper:\n",
    "    https://arxiv.org/abs/1505.04597.\n",
    "\n",
    "    Inputs:\n",
    "        encoder(nn.Module): Preferably a pretrained model, such as VGG or ResNet\n",
    "        last (bool): Whether to concat only last activation just before a size change\n",
    "        n_classes (int): Number of classes to output in final step of decoder\n",
    "\n",
    "    Important Note: If architecture directly reduces the dimension of an image as soon as the\n",
    "    first forward pass then output size will not be same as the input size, e.g. ResNet.\n",
    "    In order to resolve this problem architecture will add an additional extra conv transpose\n",
    "    layer. Also, currently Dynamic Unet expects size change to be H,W -> H/2, W/2. This is\n",
    "    not a problem for state-of-the-art architectures as they follow this pattern but it should\n",
    "    be changed for custom encoders that might have a different size decay.\n",
    "    \"\"\"\n",
    "\n",
    "    def __init__(self, encoder, last=True, n_classes=3):\n",
    "        super().__init__()\n",
    "        self.encoder = encoder\n",
    "        self.n_children = len(list(encoder.children()))\n",
    "        self.sfs = [SaveFeatures(encoder[i]) for i in range(self.n_children)]\n",
    "        self.last = last\n",
    "        self.n_classes = n_classes\n",
    "\n",
    "    def forward(self, x):\n",
    "        dtype = x.data.type()\n",
    "\n",
    "        # get imsize\n",
    "        imsize = x.size()[-2:]\n",
    "\n",
    "        # encoder output\n",
    "        x = F.relu(self.encoder(x))\n",
    "\n",
    "        # initialize sfs_idxs, sfs_szs, middle_in_c and middle_conv only once\n",
    "        if not hasattr(self, 'middle_conv'):\n",
    "            self.sfs_szs = [sfs_feats.features.size() for sfs_feats in self.sfs]\n",
    "            self.sfs_idxs = get_sfs_idxs(self.sfs, self.last)\n",
    "            middle_in_c = self.sfs_szs[-1][1]\n",
    "            middle_conv = nn.Sequential(*conv_bn_relu(middle_in_c, middle_in_c * 2, 3, 1, 1),\n",
    "                                        *conv_bn_relu(middle_in_c * 2, middle_in_c, 3, 1, 1))\n",
    "            self.middle_conv = middle_conv.type(dtype)\n",
    "\n",
    "        # middle conv\n",
    "        x = self.middle_conv(x)\n",
    "\n",
    "        # initialize upmodel, extra_block and 1x1 final conv\n",
    "        if not hasattr(self, 'upmodel'):\n",
    "            x_copy = Variable(x.data, requires_grad=False)\n",
    "            upmodel = []\n",
    "            for idx in self.sfs_idxs[::-1]:\n",
    "                up_in_c, x_in_c = int(x_copy.size()[1]), int(self.sfs_szs[idx][1])\n",
    "                unet_block = UnetBlock(up_in_c, x_in_c).type(dtype)\n",
    "                upmodel.append(unet_block)\n",
    "                x_copy = unet_block(x_copy, self.sfs[idx].features)\n",
    "                self.upmodel = nn.Sequential(*upmodel)\n",
    "\n",
    "            if imsize != self.sfs_szs[0][-2:]:\n",
    "                extra_in_c = self.upmodel[-1].conv2.out_channels\n",
    "                self.extra_block = nn.ConvTranspose2d(extra_in_c, extra_in_c, 2, 2).type(dtype)\n",
    "\n",
    "            final_in_c = self.upmodel[-1].conv2.out_channels\n",
    "            self.final_conv = nn.Conv2d(final_in_c, self.n_classes, 1).type(dtype)\n",
    "\n",
    "        # run upsample\n",
    "        for block, idx in zip(self.upmodel, self.sfs_idxs[::-1]):\n",
    "            x = block(x, self.sfs[idx].features)\n",
    "        if hasattr(self, 'extra_block'):\n",
    "            x = self.extra_block(x)\n",
    "\n",
    "        out = self.final_conv(x)\n",
    "        if self.n_classes == 1:\n",
    "            out = out.squeeze(1)\n",
    "        return out"
   ]
  },
  {
   "cell_type": "code",
   "execution_count": 33,
   "metadata": {
    "_uuid": "2bcfb35a6be577586af0e1d447e5529d455fb8a2"
   },
   "outputs": [
    {
     "data": {
      "text/plain": [
       "(8, 6)"
      ]
     },
     "execution_count": 33,
     "metadata": {},
     "output_type": "execute_result"
    }
   ],
   "source": [
    "#f = resnet18 #0.7\n",
    "# f = resnet34 #0.737\n",
    "f = resnet152 #0.747\n",
    "cut,lr_cut = model_meta[f]\n",
    "cut,lr_cut"
   ]
  },
  {
   "cell_type": "code",
   "execution_count": 34,
   "metadata": {
    "_uuid": "52bd0b4b1877a77ccde5870fc5eb022d3f260461"
   },
   "outputs": [
    {
     "name": "stderr",
     "output_type": "stream",
     "text": [
      "Downloading: \"https://download.pytorch.org/models/resnet152-b121ed2d.pth\" to /home/vishy/.torch/models/resnet152-b121ed2d.pth\n",
      "100%|██████████| 241530880/241530880 [01:55<00:00, 2088586.58it/s]\n"
     ]
    }
   ],
   "source": [
    "encoder= get_encoder(f, lr_cut)\n",
    "# m_base = get_base()\n",
    "m = DynamicUnet2(encoder, n_classes=1).cuda()\n",
    "# m = to_gpu(Unet34(m_base))\n",
    "# models = UnetModel(m)"
   ]
  },
  {
   "cell_type": "code",
   "execution_count": 35,
   "metadata": {
    "_uuid": "2969a6aab42542811ae449d91bdf4d6d9918a5fa"
   },
   "outputs": [
    {
     "data": {
      "text/plain": [
       "torch.Size([1, 128, 128])"
      ]
     },
     "execution_count": 35,
     "metadata": {},
     "output_type": "execute_result"
    }
   ],
   "source": [
    "inp = torch.ones(1, 3, 128, 128)\n",
    "out = m(V(inp))\n",
    "out.shape"
   ]
  },
  {
   "cell_type": "code",
   "execution_count": 36,
   "metadata": {
    "_uuid": "d10d0e03632e996ad1488ccca3979869fb86bbac"
   },
   "outputs": [],
   "source": [
    "models = UpsampleModel(m,5)"
   ]
  },
  {
   "cell_type": "code",
   "execution_count": 37,
   "metadata": {
    "_uuid": "675eb67fbfb1ab87c7fe15468fbbd7756e3e7a0b"
   },
   "outputs": [],
   "source": [
    "learn = ConvLearner(md, models, tmp_name=TMP, models_name=MODEL)\n",
    "learn.opt_fn=optim.Adam\n",
    "learn.crit=nn.BCEWithLogitsLoss()\n",
    "learn.metrics=[accuracy_thresh(0.5),dice, IoU]"
   ]
  },
  {
   "cell_type": "code",
   "execution_count": 38,
   "metadata": {
    "_uuid": "1931e16a69454279fc08deafe7e196e2e89ec69d"
   },
   "outputs": [],
   "source": [
    "learn.freeze_to(1)"
   ]
  },
  {
   "cell_type": "code",
   "execution_count": 39,
   "metadata": {
    "_uuid": "3888816099451297c327e1edea488d7b91185d98"
   },
   "outputs": [
    {
     "data": {
      "application/vnd.jupyter.widget-view+json": {
       "model_id": "51b07d3e7d2a468b8264ea46b5dfa473",
       "version_major": 2,
       "version_minor": 0
      },
      "text/plain": [
       "HBox(children=(IntProgress(value=0, description='Epoch', max=1), HTML(value='')))"
      ]
     },
     "metadata": {},
     "output_type": "display_data"
    },
    {
     "name": "stdout",
     "output_type": "stream",
     "text": [
      " 72%|███████▏  | 171/238 [00:15<00:06, 10.92it/s, loss=1.64] "
     ]
    },
    {
     "data": {
      "image/png": "[encoded data removed]",
      "text/plain": [
       "<Figure size 432x288 with 1 Axes>"
      ]
     },
     "metadata": {
      "needs_background": "light"
     },
     "output_type": "display_data"
    },
    {
     "name": "stdout",
     "output_type": "stream",
     "text": [
      "\r",
      " 72%|███████▏  | 171/238 [00:30<00:06, 10.92it/s, loss=1.64]"
     ]
    }
   ],
   "source": [
    "learn.lr_find()\n",
    "learn.sched.plot()"
   ]
  },
  {
   "cell_type": "code",
   "execution_count": 40,
   "metadata": {
    "_uuid": "2dd893ba4307e87ffc0db5ba04cfe4870fb0b879"
   },
   "outputs": [],
   "source": [
    "lr=1e-3\n",
    "wd=1e-4\n",
    "\n",
    "lrs = np.array([lr/100,lr/100,lr/10])"
   ]
  },
  {
   "cell_type": "code",
   "execution_count": 41,
   "metadata": {
    "_uuid": "07518d011b8dc75f81acc998b92e075a4bebf55a"
   },
   "outputs": [
    {
     "data": {
      "application/vnd.jupyter.widget-view+json": {
       "model_id": "8faa134b411940e9a7ae48e559eef0d2",
       "version_major": 2,
       "version_minor": 0
      },
      "text/plain": [
       "HBox(children=(IntProgress(value=0, description='Epoch', max=20), HTML(value='')))"
      ]
     },
     "metadata": {},
     "output_type": "display_data"
    },
    {
     "name": "stdout",
     "output_type": "stream",
     "text": [
      "epoch      trn_loss   val_loss   <lambda>   dice       IoU        \n",
      "    0      0.298829   0.233354   0.885242   0.746716   0.621451  \n",
      "    1      0.237841   0.163349   0.937601   0.84207    0.744195  \n",
      "    2      0.20879    0.182492   0.924169   0.818876   0.713752  \n",
      "    3      0.214563   0.156428   0.942751   0.857631   0.768852  \n",
      "    4      0.212778   0.167124   0.939196   0.84895    0.756331  \n",
      "    5      0.188705   0.160749   0.935646   0.851337   0.755968  \n",
      "    6      0.191342   0.167488   0.918459   0.809521   0.70324   \n",
      "    7      0.17114    0.145915   0.943318   0.867395   0.779237  \n",
      "    8      0.168796   0.127335   0.951321   0.88679    0.811739  \n",
      "    9      0.173754   0.210439   0.935592   0.842624   0.742841  \n",
      "    10     0.152692   0.120878   0.952644   0.876735   0.794645  \n",
      "    11     0.173548   0.152982   0.949343   0.87174    0.78715   \n",
      "    12     0.162242   0.140953   0.935282   0.859377   0.767293  \n",
      "    13     0.150449   0.119544   0.954093   0.890533   0.814593  \n",
      "    14     0.149053   0.129353   0.939807   0.859853   0.775819  \n",
      "    15     0.126422   0.13247    0.935979   0.850663   0.762197  \n",
      "    16     0.124597   0.117114   0.953904   0.886096   0.80921   \n",
      "    17     0.137981   0.113284   0.9524     0.889486   0.81474   \n",
      "    18     0.130359   0.112621   0.952937   0.887776   0.816168  \n",
      "    19     0.102644   0.0998     0.960261   0.902307   0.833721  \n"
     ]
    },
    {
     "data": {
      "text/plain": [
       "[array([0.0998]), 0.9602606201171875, 0.902306568836941, 0.8337212600869427]"
      ]
     },
     "execution_count": 41,
     "metadata": {},
     "output_type": "execute_result"
    }
   ],
   "source": [
    "learn.fit(lr,1,wds=wd,cycle_len=20,use_clr=(8,5))"
   ]
  },
  {
   "cell_type": "code",
   "execution_count": 42,
   "metadata": {
    "_uuid": "8718a29dbdc6d216b2e189f04d9c2ba492df06de"
   },
   "outputs": [
    {
     "data": {
      "image/png": "[encoded data removed]",
      "text/plain": [
       "<Figure size 432x288 with 1 Axes>"
      ]
     },
     "metadata": {
      "needs_background": "light"
     },
     "output_type": "display_data"
    }
   ],
   "source": [
    "learn.sched.plot_loss()"
   ]
  },
  {
   "cell_type": "code",
   "execution_count": 43,
   "metadata": {
    "_uuid": "86c536ec6be5f88dd38c0af2073d3b080510a8d1"
   },
   "outputs": [
    {
     "data": {
      "image/png": "[encoded data removed]",
      "text/plain": [
       "<Figure size 432x288 with 1 Axes>"
      ]
     },
     "metadata": {
      "needs_background": "light"
     },
     "output_type": "display_data"
    }
   ],
   "source": [
    "learn.sched.plot_lr()"
   ]
  },
  {
   "cell_type": "code",
   "execution_count": 44,
   "metadata": {
    "_uuid": "7e24ef3c39a2bd684c3401b7214d95c319800741"
   },
   "outputs": [],
   "source": [
    "learn.save('18unet1')"
   ]
  },
  {
   "cell_type": "code",
   "execution_count": 45,
   "metadata": {
    "_uuid": "795b2e048a292511ac954764293d234975383563"
   },
   "outputs": [],
   "source": [
    "learn.load('18unet1')"
   ]
  },
  {
   "cell_type": "code",
   "execution_count": 46,
   "metadata": {
    "_uuid": "d9031f7d3be0fb16657048e0b9baf895a2f7bf54"
   },
   "outputs": [
    {
     "data": {
      "application/vnd.jupyter.widget-view+json": {
       "model_id": "c9d857379ac74650b682c098ad642a60",
       "version_major": 2,
       "version_minor": 0
      },
      "text/plain": [
       "HBox(children=(IntProgress(value=0, description='Epoch', max=16), HTML(value='')))"
      ]
     },
     "metadata": {},
     "output_type": "display_data"
    },
    {
     "name": "stdout",
     "output_type": "stream",
     "text": [
      "epoch      trn_loss   val_loss   <lambda>   dice       IoU        \n",
      "    0      0.101769   0.110612   0.957859   0.895691   0.823452  \n",
      "    1      0.101947   0.117698   0.957781   0.897101   0.825316  \n",
      "    2      0.12042    0.163319   0.938255   0.858064   0.763634  \n",
      "    3      0.132192   0.130203   0.950906   0.887601   0.813367  \n",
      "    4      0.142952   0.267194   0.906767   0.794428   0.665939  \n",
      "    5      0.134094   0.129224   0.947585   0.876263   0.793795  \n",
      "    6      0.141583   0.142726   0.947026   0.8776     0.791486  \n",
      "    7      0.127569   0.21027    0.928986   0.840795   0.736883  \n",
      "    8      0.124498   0.132703   0.942713   0.858352   0.770598  \n",
      "    9      0.123757   0.118945   0.94948    0.86773    0.788972  \n",
      "    10     0.10409    0.165942   0.936913   0.853903   0.758844  \n",
      "    11     0.092532   0.130286   0.953708   0.885915   0.808893  \n",
      "    12     0.079892   0.12217    0.951737   0.879841   0.79906   \n",
      "    13     0.072997   0.127302   0.954121   0.884892   0.808709  \n",
      "    14     0.066429   0.131314   0.955148   0.890259   0.815153  \n",
      "    15     0.060997   0.130411   0.95612    0.891062   0.816436  \n"
     ]
    },
    {
     "data": {
      "text/plain": [
       "[array([0.13041]), 0.9561196899414063, 0.8910619403947913, 0.816435558796247]"
      ]
     },
     "execution_count": 46,
     "metadata": {},
     "output_type": "execute_result"
    }
   ],
   "source": [
    "learn.fit(lr,1,cycle_len=16,use_clr_beta=(10,10, 0.85, 0.9))"
   ]
  },
  {
   "cell_type": "code",
   "execution_count": 47,
   "metadata": {
    "_uuid": "c3b941f49d07e3a43598efa92aca2f0f2adb7e85"
   },
   "outputs": [
    {
     "data": {
      "image/png": "[encoded data removed]",
      "text/plain": [
       "<Figure size 864x288 with 2 Axes>"
      ]
     },
     "metadata": {
      "needs_background": "light"
     },
     "output_type": "display_data"
    }
   ],
   "source": [
    "learn.sched.plot_lr()"
   ]
  },
  {
   "cell_type": "code",
   "execution_count": 48,
   "metadata": {
    "_uuid": "2dcedef03634e571424e16608bce74ef6fc16c94"
   },
   "outputs": [],
   "source": [
    "learn.unfreeze()\n",
    "learn.bn_freeze(True)"
   ]
  },
  {
   "cell_type": "code",
   "execution_count": 49,
   "metadata": {
    "_uuid": "91666ad185722c91f744639814c1d6fc7e4282b0"
   },
   "outputs": [
    {
     "data": {
      "application/vnd.jupyter.widget-view+json": {
       "model_id": "dde73514fa61425eae23e179d293b731",
       "version_major": 2,
       "version_minor": 0
      },
      "text/plain": [
       "HBox(children=(IntProgress(value=0, description='Epoch', max=10), HTML(value='')))"
      ]
     },
     "metadata": {},
     "output_type": "display_data"
    },
    {
     "name": "stdout",
     "output_type": "stream",
     "text": [
      "epoch      trn_loss   val_loss   <lambda>   dice       IoU        \n",
      "    0      0.051035   0.132224   0.95582    0.890384   0.815559  \n",
      "    1      0.055348   0.132446   0.955808   0.890777   0.816079  \n",
      "    2      0.054323   0.132391   0.955824   0.89023    0.815374  \n",
      "    3      0.053428   0.133949   0.955977   0.890762   0.816128  \n",
      "    4      0.053079   0.134157   0.955256   0.887545   0.811869  \n",
      "    5      0.054238   0.134745   0.955937   0.890899   0.816318  \n",
      "    6      0.06035    0.133901   0.95565    0.890389   0.815618  \n",
      "    7      0.054335   0.133625   0.955761   0.890791   0.81614   \n",
      "    8      0.056456   0.133658   0.955943   0.891062   0.816514  \n",
      "    9      0.052207   0.133892   0.955872   0.890777   0.816164  \n"
     ]
    },
    {
     "data": {
      "text/plain": [
       "[array([0.13389]), 0.9558718872070312, 0.8907767228090087, 0.8161639051023875]"
      ]
     },
     "execution_count": 49,
     "metadata": {},
     "output_type": "execute_result"
    }
   ],
   "source": [
    "learn.fit(lrs/10, 1, wds=1e-7, cycle_len=10,use_clr=(20,10))"
   ]
  },
  {
   "cell_type": "code",
   "execution_count": 50,
   "metadata": {
    "_uuid": "ca22431a902f3d5185e920209853e15626022264"
   },
   "outputs": [],
   "source": [
    "py,ay = learn.predict_with_targs()"
   ]
  },
  {
   "cell_type": "code",
   "execution_count": 51,
   "metadata": {
    "_uuid": "c41886fa73dd51315c9e645a9c1b33af240878d4"
   },
   "outputs": [
    {
     "data": {
      "image/png": "[encoded data removed]",
      "text/plain": [
       "<Figure size 864x864 with 20 Axes>"
      ]
     },
     "metadata": {
      "needs_background": "light"
     },
     "output_type": "display_data"
    }
   ],
   "source": [
    "fig, axes = plt.subplots(5, 4, figsize=(12, 12))\n",
    "for i,ax in enumerate(axes.flat):\n",
    "    ax = show_img((ay[i]), ax=ax)\n",
    "plt.tight_layout(pad=0.1)"
   ]
  },
  {
   "cell_type": "code",
   "execution_count": 52,
   "metadata": {
    "_uuid": "c6572eec49772c1cefe01530741297121ecd8976"
   },
   "outputs": [
    {
     "data": {
      "image/png": "[encoded data removed]",
      "text/plain": [
       "<Figure size 864x864 with 20 Axes>"
      ]
     },
     "metadata": {
      "needs_background": "light"
     },
     "output_type": "display_data"
    },
    {
     "data": {
      "image/png": "[encoded data removed]",
      "text/plain": [
       "<Figure size 864x864 with 20 Axes>"
      ]
     },
     "metadata": {
      "needs_background": "light"
     },
     "output_type": "display_data"
    }
   ],
   "source": [
    "fig, axes = plt.subplots(5, 4, figsize=(12, 12))\n",
    "for i,ax in enumerate(axes.flat):\n",
    "    ax = show_img((py[i]>0), ax=ax)\n",
    "plt.tight_layout(pad=0.1)\n",
    "\n",
    "fig, axes = plt.subplots(5, 4, figsize=(12, 12))\n",
    "for i,ax in enumerate(axes.flat):\n",
    "    ax = show_img((ay[i]), ax=ax)\n",
    "plt.tight_layout(pad=0.1)"
   ]
  },
  {
   "cell_type": "markdown",
   "metadata": {
    "_uuid": "3d41ad6a4a5d7dbe0212d7a930d6e2c824a15594"
   },
   "source": [
    "# Predict"
   ]
  },
  {
   "cell_type": "code",
   "execution_count": 53,
   "metadata": {
    "_uuid": "cf0f98a15d900334efaad6759da11485a9fc2c77",
    "scrolled": true
   },
   "outputs": [
    {
     "data": {
      "text/plain": [
       "(18000, 128, 128)"
      ]
     },
     "execution_count": 53,
     "metadata": {},
     "output_type": "execute_result"
    }
   ],
   "source": [
    "# Predict on Test data\n",
    "out = learn.predict(is_test=True)\n",
    "np.save('preds1',out)\n",
    "out.shape"
   ]
  },
  {
   "cell_type": "code",
   "execution_count": 55,
   "metadata": {
    "_uuid": "cbe7b4823b16c35e1155453dd988ee9659a14390"
   },
   "outputs": [
    {
     "data": {
      "image/png": "[encoded data removed]",
      "text/plain": [
       "<Figure size 864x864 with 36 Axes>"
      ]
     },
     "metadata": {
      "needs_background": "light"
     },
     "output_type": "display_data"
    }
   ],
   "source": [
    "fig, axes = plt.subplots(6, 6, figsize=(12, 12))\n",
    "for i,ax in enumerate(axes.flat):\n",
    "#     ax = show_img(Image.open(PATH/test_names_png[i]), ax=ax)\n",
    "    show_img(out[i]>0, ax=ax, alpha=0.8)\n",
    "plt.tight_layout(pad=0.1)"
   ]
  },
  {
   "cell_type": "code",
   "execution_count": 56,
   "metadata": {
    "_uuid": "e0dcec07f05bcab7b2aa86083c81238c7d7f730e"
   },
   "outputs": [],
   "source": [
    "def rle_encode(im):\n",
    "    '''\n",
    "    im: numpy array, 1 - mask, 0 - background\n",
    "    Returns run length as string formated\n",
    "    '''\n",
    "    pixels = im.flatten(order=F)\n",
    "    pixels = np.concatenate([[0], pixels, [0]])\n",
    "    runs = np.where(pixels[1:] != pixels[:-1])[0] + 1\n",
    "    runs[1::2] -= runs[::2]\n",
    "    return ' '.join(str(x) for x in runs)"
   ]
  },
  {
   "cell_type": "code",
   "execution_count": 57,
   "metadata": {
    "_uuid": "fffc228be274920ee8074a11a54cd313f59ac930"
   },
   "outputs": [
    {
     "name": "stderr",
     "output_type": "stream",
     "text": [
      "/home/vishy/anaconda3/envs/npytorch/lib/python3.6/site-packages/ipykernel_launcher.py:6: DeprecationWarning: Non-string object detected for the array ordering. Please pass in 'C', 'F', 'A', or 'K' instead\n",
      "  \n"
     ]
    }
   ],
   "source": [
    "tmp_list = []\n",
    "name_list = []\n",
    "for i in range(18000):\n",
    "    img = cv2.resize(out[i,:,:], dsize=(101,101), interpolation = cv2.INTER_CUBIC)\n",
    "    tmp_list.append(rle_encode(img>0))\n",
    "    name_list.append(test_names_png[i].name[0:-4])"
   ]
  },
  {
   "cell_type": "code",
   "execution_count": 58,
   "metadata": {
    "_uuid": "53fd158c259425ffcbc51253f5196c9cfc6a4b54"
   },
   "outputs": [],
   "source": [
    "sub = pd.DataFrame(list(zip(name_list, tmp_list)), columns = ['id', 'rle_mask'])"
   ]
  },
  {
   "cell_type": "code",
   "execution_count": 59,
   "metadata": {
    "_uuid": "43218abcaa04181cfb7ab5c0c9d3f313dd0da53d"
   },
   "outputs": [
    {
     "data": {
      "text/html": [
       "<div>\n",
       "<style scoped>\n",
       "    .dataframe tbody tr th:only-of-type {\n",
       "        vertical-align: middle;\n",
       "    }\n",
       "\n",
       "    .dataframe tbody tr th {\n",
       "        vertical-align: top;\n",
       "    }\n",
       "\n",
       "    .dataframe thead th {\n",
       "        text-align: right;\n",
       "    }\n",
       "</style>\n",
       "<table border=\"1\" class=\"dataframe\">\n",
       "  <thead>\n",
       "    <tr style=\"text-align: right;\">\n",
       "      <th></th>\n",
       "      <th>id</th>\n",
       "      <th>rle_mask</th>\n",
       "    </tr>\n",
       "  </thead>\n",
       "  <tbody>\n",
       "    <tr>\n",
       "      <th>0</th>\n",
       "      <td>8cd406ddbd</td>\n",
       "      <td>1112 7 1213 10 1314 13 1415 16 1516 22 1617 30...</td>\n",
       "    </tr>\n",
       "    <tr>\n",
       "      <th>1</th>\n",
       "      <td>4a4e33c15e</td>\n",
       "      <td></td>\n",
       "    </tr>\n",
       "    <tr>\n",
       "      <th>2</th>\n",
       "      <td>a5079cb93c</td>\n",
       "      <td>9592 1 9782 3 9881 5 9973 17 10076 6</td>\n",
       "    </tr>\n",
       "    <tr>\n",
       "      <th>3</th>\n",
       "      <td>0f776d1a05</td>\n",
       "      <td>41 60 142 61 243 61 344 61 445 61 545 62 647 6...</td>\n",
       "    </tr>\n",
       "    <tr>\n",
       "      <th>4</th>\n",
       "      <td>b54e6cba44</td>\n",
       "      <td></td>\n",
       "    </tr>\n",
       "  </tbody>\n",
       "</table>\n",
       "</div>"
      ],
      "text/plain": [
       "           id                                           rle_mask\n",
       "0  8cd406ddbd  1112 7 1213 10 1314 13 1415 16 1516 22 1617 30...\n",
       "1  4a4e33c15e                                                   \n",
       "2  a5079cb93c               9592 1 9782 3 9881 5 9973 17 10076 6\n",
       "3  0f776d1a05  41 60 142 61 243 61 344 61 445 61 545 62 647 6...\n",
       "4  b54e6cba44                                                   "
      ]
     },
     "execution_count": 59,
     "metadata": {},
     "output_type": "execute_result"
    }
   ],
   "source": [
    "sub.head()"
   ]
  },
  {
   "cell_type": "code",
   "execution_count": 60,
   "metadata": {
    "_uuid": "6acac39462e3a9f1ef7886a26c88269db0f9b48e"
   },
   "outputs": [],
   "source": [
    "#sub.to_csv(subpath+'submission_v17.csv', index=False) #0.70\n",
    "# sub.to_csv(subpath+'submission_v18.csv', index=False) #0.737\n",
    "sub.to_csv(subpath+'submission_v18b.csv', index=False) #0.737"
   ]
  },
  {
   "cell_type": "code",
   "execution_count": null,
   "metadata": {
    "_uuid": "61eb855c12d4d3f8c1a5a807c98c789e0d69bda0"
   },
   "outputs": [],
   "source": [
    "#last version 1PM - 03/10/"
   ]
  }
 ],
 "metadata": {
  "kernelspec": {
   "display_name": "Python 3",
   "language": "python",
   "name": "python3"
  },
  "language_info": {
   "codemirror_mode": {
    "name": "ipython",
    "version": 3
   },
   "file_extension": ".py",
   "mimetype": "text/x-python",
   "name": "python",
   "nbconvert_exporter": "python",
   "pygments_lexer": "ipython3",
   "version": "3.6.6"
  }
 },
 "nbformat": 4,
 "nbformat_minor": 1
}
